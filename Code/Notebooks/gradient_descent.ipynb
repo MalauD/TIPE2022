{
 "cells": [
  {
   "cell_type": "code",
   "execution_count": 1,
   "metadata": {},
   "outputs": [],
   "source": [
    "import matplotlib.pyplot as plt\n",
    "import numpy as np\n",
    "import pandas as pd\n",
    "from scipy.optimize import curve_fit"
   ]
  },
  {
   "cell_type": "code",
   "execution_count": 80,
   "metadata": {},
   "outputs": [
    {
     "name": "stdout",
     "output_type": "stream",
     "text": [
      "[[3.304500e+00 1.000000e+00]\n",
      " [2.198375e+00 1.000000e+03]\n",
      " [1.825625e+00 1.500000e+03]\n",
      " [1.564000e+00 2.000000e+03]\n",
      " [1.210500e+00 3.000000e+03]\n",
      " [1.076500e+00 3.500000e+03]]\n",
      "[[3.304500e+00 1.000000e+00]\n",
      " [2.198375e+00 1.000000e+03]\n",
      " [1.825625e+00 1.500000e+03]\n",
      " [1.564000e+00 2.000000e+03]\n",
      " [1.210500e+00 3.000000e+03]\n",
      " [1.076500e+00 3.500000e+03]]\n",
      "[ 256.25029702 6319.50687134 1833.5       ]\n",
      "1833.4999999999616\n"
     ]
    },
    {
     "name": "stderr",
     "output_type": "stream",
     "text": [
      "/tmp/ipykernel_797623/2181160777.py:10: RuntimeWarning: overflow encountered in power\n",
      "  return a/x**abs(b) + c\n",
      "/usr/lib64/python3.10/site-packages/scipy/optimize/_minpack_py.py:833: OptimizeWarning: Covariance of the parameters could not be estimated\n",
      "  warnings.warn('Covariance of the parameters could not be estimated',\n",
      "/tmp/ipykernel_797623/2181160777.py:10: RuntimeWarning: overflow encountered in double_scalars\n",
      "  return a/x**abs(b) + c\n"
     ]
    },
    {
     "data": {
      "text/plain": [
       "[<matplotlib.lines.Line2D at 0x7ff2eada5240>]"
      ]
     },
     "execution_count": 80,
     "metadata": {},
     "output_type": "execute_result"
    },
    {
     "data": {
      "image/png": "[encoded data removed]",
      "text/plain": [
       "<Figure size 432x288 with 1 Axes>"
      ]
     },
     "metadata": {
      "needs_background": "light"
     },
     "output_type": "display_data"
    }
   ],
   "source": [
    "# Load data using pandas\n",
    "data_sample = pd.read_csv('data.csv', header=None).to_numpy()\n",
    "print(data_sample)\n",
    "# invert first column \n",
    "#data_sample[:,0] = 1/data_sample[:,0]\n",
    "\n",
    "print(data_sample)\n",
    "\n",
    "def func(x, a, b,c):\n",
    "    return a/x**b + c\n",
    "\n",
    "popt, pcov = curve_fit(func, data_sample[:,0], data_sample[:,1])\n",
    "print(popt)\n",
    "\n",
    "x = np.linspace(np.min(data_sample[:,0]), np.max(data_sample[:,0]), 100)\n",
    "print(func(3.2,*popt))\n",
    "#plt.yscale('log')\n",
    "plt.plot(x, func(x, *popt), 'b-')\n",
    "plt.plot(data_sample[:,0], data_sample[:,1], 'ro')"
   ]
  },
  {
   "cell_type": "code",
   "execution_count": 82,
   "metadata": {},
   "outputs": [
    {
     "data": {
      "text/plain": [
       "[<matplotlib.lines.Line2D at 0x7ff2eac5b490>]"
      ]
     },
     "execution_count": 82,
     "metadata": {},
     "output_type": "execute_result"
    },
    {
     "data": {
      "image/png": "[encoded data removed]",
      "text/plain": [
       "<Figure size 432x288 with 1 Axes>"
      ]
     },
     "metadata": {
      "needs_background": "light"
     },
     "output_type": "display_data"
    }
   ],
   "source": [
    "a = 37.70 \n",
    "b= -70.91 \n",
    "c = 1612.57\n",
    "\n",
    "plt.plot(x, func(x, a,b,c), 'b-')\n",
    "plt.plot(data_sample[:,0], data_sample[:,1], 'ro')"
   ]
  }
 ],
 "metadata": {
  "kernelspec": {
   "display_name": "Python 3.10.8 64-bit",
   "language": "python",
   "name": "python3"
  },
  "language_info": {
   "codemirror_mode": {
    "name": "ipython",
    "version": 3
   },
   "file_extension": ".py",
   "mimetype": "text/x-python",
   "name": "python",
   "nbconvert_exporter": "python",
   "pygments_lexer": "ipython3",
   "version": "3.10.8"
  },
  "orig_nbformat": 4,
  "vscode": {
   "interpreter": {
    "hash": "e7370f93d1d0cde622a1f8e1c04877d8463912d04d973331ad4851f04de6915a"
   }
  }
 },
 "nbformat": 4,
 "nbformat_minor": 2
}
