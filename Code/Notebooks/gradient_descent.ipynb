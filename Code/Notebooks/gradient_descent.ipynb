{
 "cells": [
  {
   "cell_type": "code",
   "execution_count": 1,
   "metadata": {},
   "outputs": [],
   "source": [
    "import matplotlib.pyplot as plt\n",
    "import numpy as np\n",
    "import pandas as pd\n",
    "from scipy.optimize import curve_fit"
   ]
  },
  {
   "cell_type": "code",
   "execution_count": 2,
   "metadata": {},
   "outputs": [
    {
     "name": "stdout",
     "output_type": "stream",
     "text": [
      "[[3.304500e+00 1.000000e+00]\n",
      " [2.198375e+00 1.000000e+03]\n",
      " [1.825625e+00 1.500000e+03]\n",
      " [1.564000e+00 2.000000e+03]\n",
      " [1.210500e+00 3.000000e+03]\n",
      " [1.076500e+00 3.500000e+03]]\n"
     ]
    }
   ],
   "source": [
    "# Load data using pandas\n",
    "data_sample = pd.read_csv('data.csv', header=None).to_numpy()\n",
    "print(data_sample)"
   ]
  },
  {
   "cell_type": "code",
   "execution_count": 25,
   "metadata": {},
   "outputs": [
    {
     "name": "stdout",
     "output_type": "stream",
     "text": [
      "[ 6.69309291e+03  7.11199618e-01 -2.85126720e+03]\n",
      "75.33963505937572\n",
      "5774.407361893345\n"
     ]
    },
    {
     "data": {
      "text/plain": [
       "[<matplotlib.lines.Line2D at 0x7f4dceebcaf0>]"
      ]
     },
     "execution_count": 25,
     "metadata": {},
     "output_type": "execute_result"
    },
    {
     "data": {
      "image/png": "[encoded data removed]",
      "text/plain": [
       "<Figure size 432x288 with 1 Axes>"
      ]
     },
     "metadata": {
      "needs_background": "light"
     },
     "output_type": "display_data"
    }
   ],
   "source": [
    "\n",
    "\n",
    "\n",
    "def func(x, a, b,c):\n",
    "    return a/x**b + c\n",
    "\n",
    "popt, pcov = curve_fit(func, data_sample[:,0], data_sample[:,1])\n",
    "print(popt)\n",
    "\n",
    "x = np.linspace(np.min(data_sample[:,0])-0.1, np.max(data_sample[:,0] + 0.1), 100)\n",
    "print(func(3.2,*popt))\n",
    "print(func(0.7,*popt))\n",
    "#plt.yscale('log')\n",
    "plt.plot(x, func(x, *popt), 'b-')\n",
    "plt.plot(data_sample[:,0], data_sample[:,1], 'ro')"
   ]
  },
  {
   "cell_type": "code",
   "execution_count": 26,
   "metadata": {},
   "outputs": [
    {
     "ename": "TypeError",
     "evalue": "func() takes 4 positional arguments but 5 were given",
     "output_type": "error",
     "traceback": [
      "\u001b[0;31m---------------------------------------------------------------------------\u001b[0m",
      "\u001b[0;31mTypeError\u001b[0m                                 Traceback (most recent call last)",
      "\u001b[1;32m/home/malaury/Documents/TIPE2022/Code/Notebooks/gradient_descent.ipynb Cell 4\u001b[0m in \u001b[0;36m<cell line: 6>\u001b[0;34m()\u001b[0m\n\u001b[1;32m      <a href='vscode-notebook-cell:/home/malaury/Documents/TIPE2022/Code/Notebooks/gradient_descent.ipynb#W3sZmlsZQ%3D%3D?line=0'>1</a>\u001b[0m params \u001b[39m=\u001b[39m [\u001b[39m1830.90\u001b[39m,\n\u001b[1;32m      <a href='vscode-notebook-cell:/home/malaury/Documents/TIPE2022/Code/Notebooks/gradient_descent.ipynb#W3sZmlsZQ%3D%3D?line=1'>2</a>\u001b[0m \u001b[39m1507.88\u001b[39m,\n\u001b[1;32m      <a href='vscode-notebook-cell:/home/malaury/Documents/TIPE2022/Code/Notebooks/gradient_descent.ipynb#W3sZmlsZQ%3D%3D?line=2'>3</a>\u001b[0m \u001b[39m2089.01\u001b[39m,\n\u001b[1;32m      <a href='vscode-notebook-cell:/home/malaury/Documents/TIPE2022/Code/Notebooks/gradient_descent.ipynb#W3sZmlsZQ%3D%3D?line=3'>4</a>\u001b[0m \u001b[39m2600.89\u001b[39m]\n\u001b[0;32m----> <a href='vscode-notebook-cell:/home/malaury/Documents/TIPE2022/Code/Notebooks/gradient_descent.ipynb#W3sZmlsZQ%3D%3D?line=5'>6</a>\u001b[0m plt\u001b[39m.\u001b[39mplot(x, func(x, \u001b[39m*\u001b[39;49mparams), \u001b[39m'\u001b[39m\u001b[39mb-\u001b[39m\u001b[39m'\u001b[39m)\n\u001b[1;32m      <a href='vscode-notebook-cell:/home/malaury/Documents/TIPE2022/Code/Notebooks/gradient_descent.ipynb#W3sZmlsZQ%3D%3D?line=6'>7</a>\u001b[0m plt\u001b[39m.\u001b[39mplot(data_sample[:,\u001b[39m0\u001b[39m], data_sample[:,\u001b[39m1\u001b[39m], \u001b[39m'\u001b[39m\u001b[39mro\u001b[39m\u001b[39m'\u001b[39m)\n",
      "\u001b[0;31mTypeError\u001b[0m: func() takes 4 positional arguments but 5 were given"
     ]
    }
   ],
   "source": [
    "params = [1830.90,\n",
    "1507.88,\n",
    "2089.01,\n",
    "2600.89]\n",
    "\n",
    "plt.plot(x, func(x, *params), 'b-')\n",
    "plt.plot(data_sample[:,0], data_sample[:,1], 'ro')"
   ]
  },
  {
   "cell_type": "code",
   "execution_count": 40,
   "metadata": {},
   "outputs": [
    {
     "name": "stdout",
     "output_type": "stream",
     "text": [
      "[ 5.70645624  0.70927316 -3.99784113]\n"
     ]
    },
    {
     "data": {
      "text/plain": [
       "[<matplotlib.lines.Line2D at 0x7f4dce9f3430>]"
      ]
     },
     "execution_count": 40,
     "metadata": {},
     "output_type": "execute_result"
    },
    {
     "data": {
      "image/png": "[encoded data removed]",
      "text/plain": [
       "<Figure size 432x288 with 1 Axes>"
      ]
     },
     "metadata": {
      "needs_background": "light"
     },
     "output_type": "display_data"
    }
   ],
   "source": [
    "params = [5.46323,0.7569129,-3.745374]\n",
    "\n",
    "arr = np.array([\n",
    "    [3.30, -1.56],\n",
    "[2.20, -0.71],\n",
    "[1.83, -0.28],\n",
    "[1.56, 0.14],\n",
    "[1.21, 0.99],\n",
    "[1.08, 1.41],\n",
    "])\n",
    "\n",
    "plt.plot(arr[:,0], arr[:,1], 'ro')\n",
    "plt.plot(x, func(x, *params), 'b-')\n",
    "popt, pcov = curve_fit(func, arr[:,0], arr[:,1])\n",
    "print(popt)\n",
    "plt.plot(x, func(x, *popt), 'g-')\n",
    "\n"
   ]
  }
 ],
 "metadata": {
  "kernelspec": {
   "display_name": "Python 3",
   "language": "python",
   "name": "python3"
  },
  "language_info": {
   "codemirror_mode": {
    "name": "ipython",
    "version": 3
   },
   "file_extension": ".py",
   "mimetype": "text/x-python",
   "name": "python",
   "nbconvert_exporter": "python",
   "pygments_lexer": "ipython3",
   "version": "3.10.8"
  },
  "orig_nbformat": 4,
  "vscode": {
   "interpreter": {
    "hash": "e7370f93d1d0cde622a1f8e1c04877d8463912d04d973331ad4851f04de6915a"
   }
  }
 },
 "nbformat": 4,
 "nbformat_minor": 2
}
