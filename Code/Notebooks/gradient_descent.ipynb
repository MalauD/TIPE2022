{
 "cells": [
  {
   "cell_type": "code",
   "execution_count": 11,
   "metadata": {},
   "outputs": [],
   "source": [
    "import matplotlib.pyplot as plt\n",
    "import numpy as np\n",
    "import pandas as pd\n",
    "from scipy.optimize import curve_fit"
   ]
  },
  {
   "cell_type": "code",
   "execution_count": 12,
   "metadata": {},
   "outputs": [
    {
     "name": "stdout",
     "output_type": "stream",
     "text": [
      "[[3.300750e+00 1.000000e+00]\n",
      " [1.579125e+00 5.000000e+02]\n",
      " [8.600000e-01 1.000000e+03]\n",
      " [7.425000e-01 1.500000e+03]\n",
      " [5.565000e-01 2.000000e+03]\n",
      " [5.356250e-01 2.500000e+03]\n",
      " [4.143750e-01 3.000000e+03]\n",
      " [4.168750e-01 3.500000e+03]\n",
      " [3.903750e-01 4.000000e+03]\n",
      " [3.903750e-01 4.500000e+03]]\n"
     ]
    }
   ],
   "source": [
    "# Load data using pandas\n",
    "data_sample = pd.read_csv('data.csv', header=None).to_numpy()\n",
    "print(data_sample)"
   ]
  },
  {
   "cell_type": "code",
   "execution_count": 13,
   "metadata": {},
   "outputs": [
    {
     "name": "stdout",
     "output_type": "stream",
     "text": [
      "[778.72960407   1.72807995  28.57845897]\n",
      "132.9175704153777\n",
      "1470.9251313523016\n"
     ]
    },
    {
     "data": {
      "text/plain": [
       "[<matplotlib.lines.Line2D at 0x7fbeda7982b0>]"
      ]
     },
     "execution_count": 13,
     "metadata": {},
     "output_type": "execute_result"
    },
    {
     "data": {
      "image/png": "[encoded data removed]",
      "text/plain": [
       "<Figure size 432x288 with 1 Axes>"
      ]
     },
     "metadata": {
      "needs_background": "light"
     },
     "output_type": "display_data"
    }
   ],
   "source": [
    "\n",
    "\n",
    "\n",
    "def func(x, a, b,c):\n",
    "    return a/x**b + c\n",
    "\n",
    "popt, pcov = curve_fit(func, data_sample[:,0], data_sample[:,1])\n",
    "print(popt)\n",
    "\n",
    "x = np.linspace(np.min(data_sample[:,0])-0.1, np.max(data_sample[:,0] + 0.1), 100)\n",
    "print(func(3.2,*popt))\n",
    "print(func(0.7,*popt))\n",
    "#plt.yscale('log')\n",
    "plt.plot(x, func(x, *popt), 'b-')\n",
    "plt.plot(data_sample[:,0], data_sample[:,1], 'ro')"
   ]
  },
  {
   "cell_type": "code",
   "execution_count": 14,
   "metadata": {},
   "outputs": [
    {
     "ename": "SyntaxError",
     "evalue": "invalid syntax (<ipython-input-14-746f9eb8b349>, line 2)",
     "output_type": "error",
     "traceback": [
      "\u001b[0;36m  File \u001b[0;32m\"<ipython-input-14-746f9eb8b349>\"\u001b[0;36m, line \u001b[0;32m2\u001b[0m\n\u001b[0;31m    1.27729453\u001b[0m\n\u001b[0m    ^\u001b[0m\n\u001b[0;31mSyntaxError\u001b[0m\u001b[0;31m:\u001b[0m invalid syntax\n"
     ]
    }
   ],
   "source": [
    "params = [0.97348234\n",
    "1.27729453\n",
    "-1.69600371]\n",
    "\n",
    "plt.plot(x, func(x, *params), 'b-')\n",
    "plt.plot(data_sample[:,0], data_sample[:,1], 'ro')"
   ]
  },
  {
   "cell_type": "code",
   "execution_count": 16,
   "metadata": {},
   "outputs": [
    {
     "name": "stdout",
     "output_type": "stream",
     "text": [
      "[ 5.70645626  0.70927315 -3.99784116]\n"
     ]
    },
    {
     "data": {
      "text/plain": [
       "[<matplotlib.lines.Line2D at 0x7fbedaad35e0>]"
      ]
     },
     "execution_count": 16,
     "metadata": {},
     "output_type": "execute_result"
    },
    {
     "data": {
      "image/png": "[encoded data removed]",
      "text/plain": [
       "<Figure size 432x288 with 1 Axes>"
      ]
     },
     "metadata": {
      "needs_background": "light"
     },
     "output_type": "display_data"
    }
   ],
   "source": [
    "params = [0.9295698,1.093334,-1.923782]\n",
    "\n",
    "arr = np.array([\n",
    "    [3.30, -1.56],\n",
    "[2.20, -0.71],\n",
    "[1.83, -0.28],\n",
    "[1.56, 0.14],\n",
    "[1.21, 0.99],\n",
    "[1.08, 1.41],\n",
    "])\n",
    "\n",
    "plt.plot(arr[:,0], arr[:,1], 'ro')\n",
    "plt.plot(x, func(x, *params), 'b-')\n",
    "popt, pcov = curve_fit(func, arr[:,0], arr[:,1])\n",
    "print(popt)\n",
    "plt.plot(x, func(x, *popt), 'g-')\n",
    "\n"
   ]
  }
 ],
 "metadata": {
  "kernelspec": {
   "display_name": "base",
   "language": "python",
   "name": "python3"
  },
  "language_info": {
   "codemirror_mode": {
    "name": "ipython",
    "version": 3
   },
   "file_extension": ".py",
   "mimetype": "text/x-python",
   "name": "python",
   "nbconvert_exporter": "python",
   "pygments_lexer": "ipython3",
   "version": "3.8.8"
  },
  "orig_nbformat": 4,
  "vscode": {
   "interpreter": {
    "hash": "e6b3d6495c32edc2d30b9bad1db34ae5fc7c041ac88330d01620e66c23fa3a35"
   }
  }
 },
 "nbformat": 4,
 "nbformat_minor": 2
}
