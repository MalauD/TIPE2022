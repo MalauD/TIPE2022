{
 "cells": [
  {
   "cell_type": "code",
   "execution_count": 1,
   "metadata": {},
   "outputs": [],
   "source": [
    "import matplotlib.pyplot as plt\n",
    "import numpy as np\n",
    "import pandas as pd\n",
    "from scipy.optimize import curve_fit"
   ]
  },
  {
   "cell_type": "code",
   "execution_count": 15,
   "metadata": {},
   "outputs": [
    {
     "name": "stdout",
     "output_type": "stream",
     "text": [
      "[[4.470770e-01 8.250000e+02]\n",
      " [6.014580e-01 1.230000e+03]\n",
      " [9.430620e-01 2.065000e+03]\n",
      " [1.218955e+00 2.925000e+03]\n",
      " [1.208824e+00 3.300000e+03]\n",
      " [1.161946e+00 4.150000e+03]\n",
      " [1.506875e+00 4.500000e+03]\n",
      " [1.585414e+00 4.800000e+03]\n",
      " [1.150748e+00 2.850000e+03]\n",
      " [4.972340e-01 7.600000e+02]\n",
      " [4.055360e-01 4.800000e+02]]\n",
      "[[2.23675116e+00 8.25000000e+02]\n",
      " [1.66262648e+00 1.23000000e+03]\n",
      " [1.06037567e+00 2.06500000e+03]\n",
      " [8.20374829e-01 2.92500000e+03]\n",
      " [8.27250286e-01 3.30000000e+03]\n",
      " [8.60625193e-01 4.15000000e+03]\n",
      " [6.63625052e-01 4.50000000e+03]\n",
      " [6.30750075e-01 4.80000000e+03]\n",
      " [8.68999990e-01 2.85000000e+03]\n",
      " [2.01112555e+00 7.60000000e+02]\n",
      " [2.46587233e+00 4.80000000e+02]]\n",
      "[[ 2.67818186e-01 -6.01471552e+02  5.17570509e+02]\n",
      " [-6.01471552e+02  1.41701072e+06 -1.22815137e+06]\n",
      " [ 5.17570509e+02 -1.22815137e+06  1.08120097e+06]]\n"
     ]
    },
    {
     "data": {
      "text/plain": [
       "[<matplotlib.lines.Line2D at 0x7ff2ec437bb0>]"
      ]
     },
     "execution_count": 15,
     "metadata": {},
     "output_type": "execute_result"
    },
    {
     "data": {
      "image/png": "[encoded data removed]",
      "text/plain": [
       "<Figure size 432x288 with 1 Axes>"
      ]
     },
     "metadata": {
      "needs_background": "light"
     },
     "output_type": "display_data"
    }
   ],
   "source": [
    "# Load data using pandas\n",
    "data_sample = pd.read_csv('data.csv', header=None).to_numpy()\n",
    "print(data_sample)\n",
    "# invert first column \n",
    "data_sample[:,0] = 1/data_sample[:,0]\n",
    "\n",
    "print(data_sample)\n",
    "\n",
    "def func(x, a, b,c):\n",
    "    return b/x**a + c\n",
    "\n",
    "popt, pcov = curve_fit(func, data_sample[:,0], data_sample[:,1])\n",
    "print(pcov)\n",
    "\n",
    "x = np.linspace(np.min(data_sample[:,0]), np.max(data_sample[:,0]), 100)\n",
    "\n",
    "plt.yscale('log')\n",
    "plt.plot(x, func(x, *popt), 'r-')\n",
    "plt.plot(data_sample[:,0], data_sample[:,1], 'ro')"
   ]
  },
  {
   "cell_type": "code",
   "execution_count": 11,
   "metadata": {},
   "outputs": [
    {
     "data": {
      "text/plain": [
       "3340.6900505856256"
      ]
     },
     "execution_count": 11,
     "metadata": {},
     "output_type": "execute_result"
    }
   ],
   "source": [
    "func(0.81,*popt)"
   ]
  }
 ],
 "metadata": {
  "kernelspec": {
   "display_name": "Python 3.10.8 64-bit",
   "language": "python",
   "name": "python3"
  },
  "language_info": {
   "codemirror_mode": {
    "name": "ipython",
    "version": 3
   },
   "file_extension": ".py",
   "mimetype": "text/x-python",
   "name": "python",
   "nbconvert_exporter": "python",
   "pygments_lexer": "ipython3",
   "version": "3.10.8"
  },
  "orig_nbformat": 4,
  "vscode": {
   "interpreter": {
    "hash": "e7370f93d1d0cde622a1f8e1c04877d8463912d04d973331ad4851f04de6915a"
   }
  }
 },
 "nbformat": 4,
 "nbformat_minor": 2
}
